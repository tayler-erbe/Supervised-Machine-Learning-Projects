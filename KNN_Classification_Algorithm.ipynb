{
 "cells": [
  {
   "cell_type": "markdown",
   "id": "2f68cd4f-fcf9-40a7-b6d4-b8229db17c2b",
   "metadata": {},
   "source": [
    "# KNN Classification Algorithm: Prediction for Benign or Malignant Mammographic Masses in Breast Tissue\n",
    "\n",
    "##### References:\n",
    "Tutorial on KNN Algorithm In Machine Learning | KNN Algorithm Using Python | K Nearest Neighbor | Simplilearn : https://www.youtube.com/watch?v=4HKqjENq9OU\n",
    "\n",
    "Explanation on Confusion Matrix: https://towardsdatascience.com/understanding-confusion-matrix-a9ad42dcfd62\n",
    "\n",
    "\n",
    "\n",
    "#### Data Information \n",
    "\n",
    "##### Data : https://archive.ics.uci.edu/ml/datasets/Mammographic+Mass\n",
    "\n",
    "Class Distribution: benign: 516; malignant: 445\n",
    "\n",
    "Attribute Information:\n",
    "\n",
    "6 Attributes in total (1 goal field, 1 non-predictive, 4 predictive attributes)\n",
    "\n",
    "1. BI-RADS assessment: 1 to 5 (ordinal, non-predictive!)\n",
    "2. Age: patient's age in years (integer)\n",
    "3. Shape: mass shape: round=1 oval=2 lobular=3 irregular=4 (nominal)\n",
    "4. Margin: mass margin: circumscribed=1 microlobulated=2 obscured=3 ill-defined=4 spiculated=5 (nominal)\n",
    "5. Density: mass density high=1 iso=2 low=3 fat-containing=4 (ordinal)\n",
    "6. Severity: benign=0 or malignant=1 (binominal, goal field!)\n",
    "\n",
    "What is BI-RADS in breast cancer?\n",
    "Image result for BI-RADS\n",
    "BI-RADS (Breast Imaging-Reporting and Data System) is a risk assessment and quality assurance tool developed by American College of Radiology that provides a widely accepted lexicon and reporting schema for imaging of the breast. It applies to mammography, ultrasound, and MRI."
   ]
  },
  {
   "cell_type": "markdown",
   "id": "79ca1def-26f2-478f-88fe-af7aab4da957",
   "metadata": {},
   "source": [
    "### Imports\n"
   ]
  },
  {
   "cell_type": "code",
   "execution_count": 2,
   "id": "8cd12ce8-8ea5-4af4-8c7a-56b83198bb0d",
   "metadata": {},
   "outputs": [],
   "source": [
    "import pandas as pd\n",
    "import numpy as np \n",
    "import math\n",
    "\n",
    "from sklearn.model_selection import train_test_split\n",
    "from sklearn.preprocessing import StandardScaler \n",
    "from sklearn.neighbors import KNeighborsClassifier\n",
    "from sklearn.metrics import confusion_matrix \n",
    "from sklearn.metrics import f1_score \n",
    "from sklearn.metrics import accuracy_score "
   ]
  },
  {
   "cell_type": "markdown",
   "id": "3e78df6a-c83f-454e-836b-c951d2a1fd95",
   "metadata": {},
   "source": [
    "### Data Preparation"
   ]
  },
  {
   "cell_type": "code",
   "execution_count": 3,
   "id": "0790c185-db76-4acb-92e6-ef4522eb0bb0",
   "metadata": {},
   "outputs": [
    {
     "data": {
      "text/html": [
       "<div>\n",
       "<style scoped>\n",
       "    .dataframe tbody tr th:only-of-type {\n",
       "        vertical-align: middle;\n",
       "    }\n",
       "\n",
       "    .dataframe tbody tr th {\n",
       "        vertical-align: top;\n",
       "    }\n",
       "\n",
       "    .dataframe thead th {\n",
       "        text-align: right;\n",
       "    }\n",
       "</style>\n",
       "<table border=\"1\" class=\"dataframe\">\n",
       "  <thead>\n",
       "    <tr style=\"text-align: right;\">\n",
       "      <th></th>\n",
       "      <th>BI-RADS assessment</th>\n",
       "      <th>Age</th>\n",
       "      <th>Shape</th>\n",
       "      <th>Margin</th>\n",
       "      <th>Density</th>\n",
       "      <th>Severity</th>\n",
       "    </tr>\n",
       "  </thead>\n",
       "  <tbody>\n",
       "    <tr>\n",
       "      <th>0</th>\n",
       "      <td>5</td>\n",
       "      <td>67</td>\n",
       "      <td>3</td>\n",
       "      <td>5</td>\n",
       "      <td>3</td>\n",
       "      <td>1</td>\n",
       "    </tr>\n",
       "    <tr>\n",
       "      <th>2</th>\n",
       "      <td>5</td>\n",
       "      <td>58</td>\n",
       "      <td>4</td>\n",
       "      <td>5</td>\n",
       "      <td>3</td>\n",
       "      <td>1</td>\n",
       "    </tr>\n",
       "    <tr>\n",
       "      <th>3</th>\n",
       "      <td>4</td>\n",
       "      <td>28</td>\n",
       "      <td>1</td>\n",
       "      <td>1</td>\n",
       "      <td>3</td>\n",
       "      <td>0</td>\n",
       "    </tr>\n",
       "    <tr>\n",
       "      <th>8</th>\n",
       "      <td>5</td>\n",
       "      <td>57</td>\n",
       "      <td>1</td>\n",
       "      <td>5</td>\n",
       "      <td>3</td>\n",
       "      <td>1</td>\n",
       "    </tr>\n",
       "    <tr>\n",
       "      <th>10</th>\n",
       "      <td>5</td>\n",
       "      <td>76</td>\n",
       "      <td>1</td>\n",
       "      <td>4</td>\n",
       "      <td>3</td>\n",
       "      <td>1</td>\n",
       "    </tr>\n",
       "  </tbody>\n",
       "</table>\n",
       "</div>"
      ],
      "text/plain": [
       "   BI-RADS assessment Age Shape Margin Density  Severity\n",
       "0                   5  67     3      5       3         1\n",
       "2                   5  58     4      5       3         1\n",
       "3                   4  28     1      1       3         0\n",
       "8                   5  57     1      5       3         1\n",
       "10                  5  76     1      4       3         1"
      ]
     },
     "execution_count": 3,
     "metadata": {},
     "output_type": "execute_result"
    }
   ],
   "source": [
    "df = pd.read_csv(\"mammographic_masses.csv\")\n",
    "df = df.replace('?', np.NaN)\n",
    "df = df.dropna()\n",
    "df.head()"
   ]
  },
  {
   "cell_type": "markdown",
   "id": "e8890417-7a91-4fb0-8cdd-157e315c6b5c",
   "metadata": {},
   "source": [
    "### Split Data into Train and Test"
   ]
  },
  {
   "cell_type": "code",
   "execution_count": 4,
   "id": "a7aed3ae-f7b9-43f4-9478-b935a2a28d0a",
   "metadata": {},
   "outputs": [
    {
     "data": {
      "text/html": [
       "<div>\n",
       "<style scoped>\n",
       "    .dataframe tbody tr th:only-of-type {\n",
       "        vertical-align: middle;\n",
       "    }\n",
       "\n",
       "    .dataframe tbody tr th {\n",
       "        vertical-align: top;\n",
       "    }\n",
       "\n",
       "    .dataframe thead th {\n",
       "        text-align: right;\n",
       "    }\n",
       "</style>\n",
       "<table border=\"1\" class=\"dataframe\">\n",
       "  <thead>\n",
       "    <tr style=\"text-align: right;\">\n",
       "      <th></th>\n",
       "      <th>BI-RADS assessment</th>\n",
       "      <th>Age</th>\n",
       "      <th>Shape</th>\n",
       "      <th>Margin</th>\n",
       "      <th>Density</th>\n",
       "    </tr>\n",
       "  </thead>\n",
       "  <tbody>\n",
       "    <tr>\n",
       "      <th>0</th>\n",
       "      <td>5</td>\n",
       "      <td>67</td>\n",
       "      <td>3</td>\n",
       "      <td>5</td>\n",
       "      <td>3</td>\n",
       "    </tr>\n",
       "    <tr>\n",
       "      <th>2</th>\n",
       "      <td>5</td>\n",
       "      <td>58</td>\n",
       "      <td>4</td>\n",
       "      <td>5</td>\n",
       "      <td>3</td>\n",
       "    </tr>\n",
       "    <tr>\n",
       "      <th>3</th>\n",
       "      <td>4</td>\n",
       "      <td>28</td>\n",
       "      <td>1</td>\n",
       "      <td>1</td>\n",
       "      <td>3</td>\n",
       "    </tr>\n",
       "    <tr>\n",
       "      <th>8</th>\n",
       "      <td>5</td>\n",
       "      <td>57</td>\n",
       "      <td>1</td>\n",
       "      <td>5</td>\n",
       "      <td>3</td>\n",
       "    </tr>\n",
       "    <tr>\n",
       "      <th>10</th>\n",
       "      <td>5</td>\n",
       "      <td>76</td>\n",
       "      <td>1</td>\n",
       "      <td>4</td>\n",
       "      <td>3</td>\n",
       "    </tr>\n",
       "  </tbody>\n",
       "</table>\n",
       "</div>"
      ],
      "text/plain": [
       "   BI-RADS assessment Age Shape Margin Density\n",
       "0                   5  67     3      5       3\n",
       "2                   5  58     4      5       3\n",
       "3                   4  28     1      1       3\n",
       "8                   5  57     1      5       3\n",
       "10                  5  76     1      4       3"
      ]
     },
     "execution_count": 4,
     "metadata": {},
     "output_type": "execute_result"
    }
   ],
   "source": [
    "X = df.iloc[:, 0:5]\n",
    "X.head()"
   ]
  },
  {
   "cell_type": "code",
   "execution_count": 5,
   "id": "db682306-bc51-4c66-bf02-6c3f2b92a672",
   "metadata": {},
   "outputs": [
    {
     "data": {
      "text/plain": [
       "0     1\n",
       "2     1\n",
       "3     0\n",
       "8     1\n",
       "10    1\n",
       "Name: Severity, dtype: int64"
      ]
     },
     "execution_count": 5,
     "metadata": {},
     "output_type": "execute_result"
    }
   ],
   "source": [
    "y = df.iloc[:,5]\n",
    "y.head()"
   ]
  },
  {
   "cell_type": "code",
   "execution_count": 6,
   "id": "0f0ded39-4e48-447c-bb46-4a223d4b23cb",
   "metadata": {},
   "outputs": [],
   "source": [
    "X_train, X_test, y_train, y_test = train_test_split(X,y, random_state = 0, test_size = 0.2)"
   ]
  },
  {
   "cell_type": "code",
   "execution_count": 7,
   "id": "1bf793ad-eebe-4e1e-bac3-304b7959d5b0",
   "metadata": {},
   "outputs": [
    {
     "data": {
      "text/plain": [
       "(664, 166, 664, 166)"
      ]
     },
     "execution_count": 7,
     "metadata": {},
     "output_type": "execute_result"
    }
   ],
   "source": [
    "len(X_train), len(X_test), len(y_train), len(y_test)"
   ]
  },
  {
   "cell_type": "markdown",
   "id": "500ffa5d-6e84-4e6d-b1c5-93f8f7e45aec",
   "metadata": {},
   "source": [
    "### Feature Scaling \n",
    "\n",
    "\n",
    "Rule of Thumb:\n",
    "Any algorithm that computes distance or assumes normailty, SCALE you FEATURES!"
   ]
  },
  {
   "cell_type": "code",
   "execution_count": 8,
   "id": "4c61fc7f-bf15-448f-9349-bd4855e06c3f",
   "metadata": {},
   "outputs": [],
   "source": [
    "sc_X = StandardScaler()\n",
    "X_train = sc_X.fit_transform(X_train)\n",
    "X_test = sc_X.transform(X_test)"
   ]
  },
  {
   "cell_type": "code",
   "execution_count": 9,
   "id": "faf4ab6c-2ea4-4c90-a621-7667d3cc1aec",
   "metadata": {},
   "outputs": [],
   "source": [
    "# Helps determine an intial number of neighbors\n",
    "def get_n_neighbors(y):\n",
    "    n = round(math.sqrt(len(y)))\n",
    "    if n%2 == 0:\n",
    "        n_neighbors = n - 1\n",
    "    else:\n",
    "        n_neighbors = n\n",
    "        \n",
    "    return n_neighbors"
   ]
  },
  {
   "cell_type": "code",
   "execution_count": 10,
   "id": "a980690f-15a1-49c8-addb-2a74d0e732a8",
   "metadata": {},
   "outputs": [],
   "source": [
    "# Define the model: Init K-NN\n",
    "n = get_n_neighbors(y)\n",
    "classifier = KNeighborsClassifier(n_neighbors = n, p = 2, metric = 'euclidean')"
   ]
  },
  {
   "cell_type": "code",
   "execution_count": 11,
   "id": "ab13f751-7816-47ab-a0c7-310187e08626",
   "metadata": {},
   "outputs": [
    {
     "data": {
      "text/plain": [
       "KNeighborsClassifier(metric='euclidean', n_neighbors=29)"
      ]
     },
     "execution_count": 11,
     "metadata": {},
     "output_type": "execute_result"
    }
   ],
   "source": [
    "# Fit Model \n",
    "classifier.fit(X_train, y_train)"
   ]
  },
  {
   "cell_type": "code",
   "execution_count": 12,
   "id": "756e652a-7ae7-414d-93b9-ef0bfc751e68",
   "metadata": {},
   "outputs": [],
   "source": [
    "y_pred = classifier.predict(X_test)"
   ]
  },
  {
   "cell_type": "markdown",
   "id": "4e383ea7-7726-4ead-b2a7-f956d9b5a849",
   "metadata": {},
   "source": [
    "### Evaluate the Model\n"
   ]
  },
  {
   "cell_type": "code",
   "execution_count": 13,
   "id": "5bd1c0f5-47ed-474e-9086-d27c41ac6410",
   "metadata": {},
   "outputs": [],
   "source": [
    "cm = confusion_matrix(y_test,y_pred)\n"
   ]
  },
  {
   "cell_type": "markdown",
   "id": "2867d667-a90e-4fec-ae17-ffd9693d525f",
   "metadata": {},
   "source": [
    "    TP: True postive, Ex: Doctor tells woman who IS pregnant that she IS pregnant.\n",
    "    FP: False positive, Ex: Doctor tells a women whoe IS NOT pregnant that she IS pregnant (TYPE I Error)\n",
    "    FN: False negative, Ex: Doctor tells a woman who IS pregnnt that she IS NOT pregnant (TYPE II Error) \n",
    "    TN: True negative, Ex: Doctor tells a woman who IS NOT pregnant that she is NOT pregnant.\n",
    "\n",
    "Confusion Matrix\n",
    "\n",
    "                                 Actual Values \n",
    "\n",
    "                              ___True_____False__\n",
    "\n",
    "    Predicted       Positive |  TP    |  FP    |\n",
    "    Values\n",
    "                    Negative |  TN    |  FN    |\n",
    "                             ___________________"
   ]
  },
  {
   "cell_type": "code",
   "execution_count": 14,
   "id": "b5b0e452-3e9d-4f99-87da-c368084af5b6",
   "metadata": {},
   "outputs": [],
   "source": [
    "tp = cm[0,0]\n",
    "fn = cm[1,1]\n",
    "fp = cm[0,1]\n",
    "tn = cm[1,0]"
   ]
  },
  {
   "cell_type": "code",
   "execution_count": 15,
   "id": "6f876520-0184-4e5f-8632-22a9217c67ab",
   "metadata": {},
   "outputs": [
    {
     "name": "stdout",
     "output_type": "stream",
     "text": [
      "The Confusion Matrix Results\n",
      " \n",
      "[[69 22]\n",
      " [15 60]]\n",
      " \n",
      "The True Positive: 69\n",
      "The False Negative: 60\n",
      "The False Positive: 22\n",
      "The True Negative: 15\n"
     ]
    }
   ],
   "source": [
    "print(\"The Confusion Matrix Results\")\n",
    "print(\" \")\n",
    "print(cm)\n",
    "print(\" \")\n",
    "print(\"The True Positive: \" + str(tp))\n",
    "print(\"The False Negative: \"+ str(fn))\n",
    "print(\"The False Positive: \" + str(fp))\n",
    "print(\"The True Negative: \" + str(tn))"
   ]
  },
  {
   "cell_type": "markdown",
   "id": "0a1beef0-a567-4129-86a0-0d1da777e0ac",
   "metadata": {},
   "source": [
    "#### Recall\n",
    "From all the positive classes, how many we predicted correctly.\n",
    "Recall should be high as possible."
   ]
  },
  {
   "cell_type": "code",
   "execution_count": 16,
   "id": "c5b41454-32e1-4334-91a0-94818e0bfef7",
   "metadata": {},
   "outputs": [
    {
     "data": {
      "text/plain": [
       "0.5348837209302325"
      ]
     },
     "execution_count": 16,
     "metadata": {},
     "output_type": "execute_result"
    }
   ],
   "source": [
    "recall = tp / (tp + fn)\n",
    "recall"
   ]
  },
  {
   "cell_type": "markdown",
   "id": "1cf6641e-ca3d-4104-90d4-fa8d0d387d44",
   "metadata": {},
   "source": [
    "#### Precision\n",
    "From all the classes we have predicted as positive, how many are actually positive."
   ]
  },
  {
   "cell_type": "code",
   "execution_count": 17,
   "id": "80eed8e1-4eaa-4a19-8687-875cc8f0d2ea",
   "metadata": {},
   "outputs": [
    {
     "data": {
      "text/plain": [
       "0.7582417582417582"
      ]
     },
     "execution_count": 17,
     "metadata": {},
     "output_type": "execute_result"
    }
   ],
   "source": [
    "precision = tp / (tp + fp)\n",
    "precision"
   ]
  },
  {
   "cell_type": "markdown",
   "id": "affc92cf-f10e-4bd9-9c37-dda0f7c88e67",
   "metadata": {},
   "source": [
    "#### F-measure\n",
    "\n",
    "It is difficult to compare two models with low precision and high recall or vice versa. So to make them comparable, we use F-Score. F-score helps to measure Recall and Precision at the same time. It uses Harmonic Mean in place of Arithmetic Mean by punishing the extreme values more."
   ]
  },
  {
   "cell_type": "code",
   "execution_count": 18,
   "id": "8a8bf320-d236-420b-95e7-2a3424d23c3e",
   "metadata": {},
   "outputs": [
    {
     "data": {
      "text/plain": [
       "0.6272727272727272"
      ]
     },
     "execution_count": 18,
     "metadata": {},
     "output_type": "execute_result"
    }
   ],
   "source": [
    "f_measure = (2*recall*precision) / (recall + precision)\n",
    "f_measure"
   ]
  },
  {
   "cell_type": "code",
   "execution_count": 19,
   "id": "7c05535b-b008-4002-885d-7f1cc4b60e2b",
   "metadata": {},
   "outputs": [
    {
     "name": "stdout",
     "output_type": "stream",
     "text": [
      "The f1 score 0.7643312101910827\n"
     ]
    }
   ],
   "source": [
    "print(\"The f1 score \" + str(f1_score(y_pred,y_test)))"
   ]
  },
  {
   "cell_type": "markdown",
   "id": "f46b26c5-310a-4d66-8487-c26ff43efed0",
   "metadata": {},
   "source": [
    "#### Accuracy \n",
    "How many right versus how man wrong"
   ]
  },
  {
   "cell_type": "code",
   "execution_count": 20,
   "id": "9286bc40-57c7-4218-bd6d-548459b5e795",
   "metadata": {},
   "outputs": [
    {
     "name": "stdout",
     "output_type": "stream",
     "text": [
      "The accuracy score 0.7771084337349398\n"
     ]
    }
   ],
   "source": [
    "print(\"The accuracy score \" + str(accuracy_score(y_pred,y_test)))"
   ]
  }
 ],
 "metadata": {
  "kernelspec": {
   "display_name": "Python 3",
   "language": "python",
   "name": "python3"
  },
  "language_info": {
   "codemirror_mode": {
    "name": "ipython",
    "version": 3
   },
   "file_extension": ".py",
   "mimetype": "text/x-python",
   "name": "python",
   "nbconvert_exporter": "python",
   "pygments_lexer": "ipython3",
   "version": "3.7.6"
  }
 },
 "nbformat": 4,
 "nbformat_minor": 5
}
